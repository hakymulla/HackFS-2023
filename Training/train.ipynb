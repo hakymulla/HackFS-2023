{
 "cells": [
  {
   "cell_type": "code",
   "execution_count": 1,
   "metadata": {},
   "outputs": [],
   "source": [
    "#|default\n",
    "import numpy as np\n",
    "import pandas as pd\n",
    "from sklearn.ensemble import RandomForestRegressor, RandomForestClassifier\n",
    "from sklearn import preprocessing\n",
    "import pickle"
   ]
  },
  {
   "cell_type": "code",
   "execution_count": 5,
   "metadata": {},
   "outputs": [],
   "source": [
    "df = pd.read_csv(\"../dataset/eth_illicit_features.csv\")"
   ]
  },
  {
   "cell_type": "code",
   "execution_count": 58,
   "metadata": {},
   "outputs": [],
   "source": [
    "# fraud = df.drop(columns=[ 'lifetime', 'totalEtherBalance', 'activityDays' , 'dailyMax' , 'ratioRecSent' ,\n",
    "#         'ratioSentTotal' , 'ratioRecTotal' , 'giniSent' , 'giniRec' ,\n",
    "#         'txFreq' , 'stdBalanceEth'])"
   ]
  },
  {
   "cell_type": "code",
   "execution_count": 59,
   "metadata": {},
   "outputs": [],
   "source": [
    "# fraud.to_csv('../dataset/Eth_fraud_data.csv')"
   ]
  },
  {
   "cell_type": "code",
   "execution_count": 3,
   "metadata": {},
   "outputs": [
    {
     "data": {
      "text/html": [
       "<div>\n",
       "<style scoped>\n",
       "    .dataframe tbody tr th:only-of-type {\n",
       "        vertical-align: middle;\n",
       "    }\n",
       "\n",
       "    .dataframe tbody tr th {\n",
       "        vertical-align: top;\n",
       "    }\n",
       "\n",
       "    .dataframe thead th {\n",
       "        text-align: right;\n",
       "    }\n",
       "</style>\n",
       "<table border=\"1\" class=\"dataframe\">\n",
       "  <thead>\n",
       "    <tr style=\"text-align: right;\">\n",
       "      <th></th>\n",
       "      <th>address</th>\n",
       "      <th>flag</th>\n",
       "      <th>minTimeBetweenSentTnx</th>\n",
       "      <th>maxTimeBetweenSentTnx</th>\n",
       "      <th>avgTimeBetweenSentTnx</th>\n",
       "      <th>minTimeBetweenRecTnx</th>\n",
       "      <th>maxTimeBetweenRecTnx</th>\n",
       "      <th>avgTimeBetweenRecTnx</th>\n",
       "      <th>lifetime</th>\n",
       "      <th>sentTransactions</th>\n",
       "      <th>...</th>\n",
       "      <th>totalEtherBalance</th>\n",
       "      <th>activityDays</th>\n",
       "      <th>dailyMax</th>\n",
       "      <th>ratioRecSent</th>\n",
       "      <th>ratioSentTotal</th>\n",
       "      <th>ratioRecTotal</th>\n",
       "      <th>giniSent</th>\n",
       "      <th>giniRec</th>\n",
       "      <th>txFreq</th>\n",
       "      <th>stdBalanceEth</th>\n",
       "    </tr>\n",
       "  </thead>\n",
       "  <tbody>\n",
       "    <tr>\n",
       "      <th>0</th>\n",
       "      <td>0xd0cc2b24980cbcca47ef755da88b220a82291407</td>\n",
       "      <td>1</td>\n",
       "      <td>0.0</td>\n",
       "      <td>2387389.0</td>\n",
       "      <td>5.807655e+04</td>\n",
       "      <td>89.0</td>\n",
       "      <td>1.501076e+09</td>\n",
       "      <td>7.148260e+07</td>\n",
       "      <td>46</td>\n",
       "      <td>66</td>\n",
       "      <td>...</td>\n",
       "      <td>0.291940</td>\n",
       "      <td>10</td>\n",
       "      <td>60</td>\n",
       "      <td>0.313433</td>\n",
       "      <td>0.750000</td>\n",
       "      <td>0.238636</td>\n",
       "      <td>0.969121</td>\n",
       "      <td>0.888782</td>\n",
       "      <td>1.891304</td>\n",
       "      <td>147.701484</td>\n",
       "    </tr>\n",
       "    <tr>\n",
       "      <th>1</th>\n",
       "      <td>0x4cdc1cba0aeb5539f2e0ba158281e67e0e54a9b1</td>\n",
       "      <td>1</td>\n",
       "      <td>0.0</td>\n",
       "      <td>0.0</td>\n",
       "      <td>0.000000e+00</td>\n",
       "      <td>3021091.0</td>\n",
       "      <td>1.502802e+09</td>\n",
       "      <td>7.529115e+08</td>\n",
       "      <td>35</td>\n",
       "      <td>0</td>\n",
       "      <td>...</td>\n",
       "      <td>0.013541</td>\n",
       "      <td>2</td>\n",
       "      <td>1</td>\n",
       "      <td>2.000000</td>\n",
       "      <td>0.000000</td>\n",
       "      <td>0.666667</td>\n",
       "      <td>0.000000</td>\n",
       "      <td>0.238480</td>\n",
       "      <td>0.057143</td>\n",
       "      <td>0.005000</td>\n",
       "    </tr>\n",
       "    <tr>\n",
       "      <th>2</th>\n",
       "      <td>0x00e01a648ff41346cdeb873182383333d2184dd1</td>\n",
       "      <td>1</td>\n",
       "      <td>37.0</td>\n",
       "      <td>25112882.0</td>\n",
       "      <td>1.710279e+06</td>\n",
       "      <td>0.0</td>\n",
       "      <td>1.500397e+09</td>\n",
       "      <td>6.820612e+07</td>\n",
       "      <td>299</td>\n",
       "      <td>15</td>\n",
       "      <td>...</td>\n",
       "      <td>0.266494</td>\n",
       "      <td>14</td>\n",
       "      <td>16</td>\n",
       "      <td>1.375000</td>\n",
       "      <td>0.394737</td>\n",
       "      <td>0.578947</td>\n",
       "      <td>0.465450</td>\n",
       "      <td>0.614205</td>\n",
       "      <td>0.123746</td>\n",
       "      <td>52.129575</td>\n",
       "    </tr>\n",
       "    <tr>\n",
       "      <th>3</th>\n",
       "      <td>0x858457daa7e087ad74cdeeceab8419079bc2ca03</td>\n",
       "      <td>1</td>\n",
       "      <td>0.0</td>\n",
       "      <td>642460.0</td>\n",
       "      <td>1.576106e+04</td>\n",
       "      <td>0.0</td>\n",
       "      <td>1.500037e+09</td>\n",
       "      <td>1.352571e+07</td>\n",
       "      <td>36</td>\n",
       "      <td>109</td>\n",
       "      <td>...</td>\n",
       "      <td>0.007419</td>\n",
       "      <td>36</td>\n",
       "      <td>67</td>\n",
       "      <td>1.009091</td>\n",
       "      <td>0.493213</td>\n",
       "      <td>0.502262</td>\n",
       "      <td>0.957906</td>\n",
       "      <td>0.794121</td>\n",
       "      <td>6.111111</td>\n",
       "      <td>233.689231</td>\n",
       "    </tr>\n",
       "    <tr>\n",
       "      <th>4</th>\n",
       "      <td>0x240e125c20a4cc84bd6e7f8d1fd07aff4c06d43d</td>\n",
       "      <td>1</td>\n",
       "      <td>0.0</td>\n",
       "      <td>0.0</td>\n",
       "      <td>0.000000e+00</td>\n",
       "      <td>3894.0</td>\n",
       "      <td>1.500402e+09</td>\n",
       "      <td>3.751409e+08</td>\n",
       "      <td>82</td>\n",
       "      <td>1</td>\n",
       "      <td>...</td>\n",
       "      <td>0.002199</td>\n",
       "      <td>3</td>\n",
       "      <td>3</td>\n",
       "      <td>2.000000</td>\n",
       "      <td>0.166667</td>\n",
       "      <td>0.666667</td>\n",
       "      <td>0.000000</td>\n",
       "      <td>0.406556</td>\n",
       "      <td>0.060976</td>\n",
       "      <td>0.757788</td>\n",
       "    </tr>\n",
       "  </tbody>\n",
       "</table>\n",
       "<p>5 rows × 34 columns</p>\n",
       "</div>"
      ],
      "text/plain": [
       "                                      address  flag  minTimeBetweenSentTnx  \\\n",
       "0  0xd0cc2b24980cbcca47ef755da88b220a82291407     1                    0.0   \n",
       "1  0x4cdc1cba0aeb5539f2e0ba158281e67e0e54a9b1     1                    0.0   \n",
       "2  0x00e01a648ff41346cdeb873182383333d2184dd1     1                   37.0   \n",
       "3  0x858457daa7e087ad74cdeeceab8419079bc2ca03     1                    0.0   \n",
       "4  0x240e125c20a4cc84bd6e7f8d1fd07aff4c06d43d     1                    0.0   \n",
       "\n",
       "   maxTimeBetweenSentTnx  avgTimeBetweenSentTnx  minTimeBetweenRecTnx  \\\n",
       "0              2387389.0           5.807655e+04                  89.0   \n",
       "1                    0.0           0.000000e+00             3021091.0   \n",
       "2             25112882.0           1.710279e+06                   0.0   \n",
       "3               642460.0           1.576106e+04                   0.0   \n",
       "4                    0.0           0.000000e+00                3894.0   \n",
       "\n",
       "   maxTimeBetweenRecTnx  avgTimeBetweenRecTnx  lifetime  sentTransactions  \\\n",
       "0          1.501076e+09          7.148260e+07        46                66   \n",
       "1          1.502802e+09          7.529115e+08        35                 0   \n",
       "2          1.500397e+09          6.820612e+07       299                15   \n",
       "3          1.500037e+09          1.352571e+07        36               109   \n",
       "4          1.500402e+09          3.751409e+08        82                 1   \n",
       "\n",
       "   ...  totalEtherBalance  activityDays  dailyMax  ratioRecSent  \\\n",
       "0  ...           0.291940            10        60      0.313433   \n",
       "1  ...           0.013541             2         1      2.000000   \n",
       "2  ...           0.266494            14        16      1.375000   \n",
       "3  ...           0.007419            36        67      1.009091   \n",
       "4  ...           0.002199             3         3      2.000000   \n",
       "\n",
       "   ratioSentTotal  ratioRecTotal  giniSent   giniRec    txFreq  stdBalanceEth  \n",
       "0        0.750000       0.238636  0.969121  0.888782  1.891304     147.701484  \n",
       "1        0.000000       0.666667  0.000000  0.238480  0.057143       0.005000  \n",
       "2        0.394737       0.578947  0.465450  0.614205  0.123746      52.129575  \n",
       "3        0.493213       0.502262  0.957906  0.794121  6.111111     233.689231  \n",
       "4        0.166667       0.666667  0.000000  0.406556  0.060976       0.757788  \n",
       "\n",
       "[5 rows x 34 columns]"
      ]
     },
     "execution_count": 3,
     "metadata": {},
     "output_type": "execute_result"
    }
   ],
   "source": [
    "df.head()"
   ]
  },
  {
   "cell_type": "code",
   "execution_count": 62,
   "metadata": {},
   "outputs": [
    {
     "data": {
      "text/plain": [
       "Index(['address', 'flag', 'minTimeBetweenSentTnx', 'maxTimeBetweenSentTnx',\n",
       "       'avgTimeBetweenSentTnx', 'minTimeBetweenRecTnx', 'maxTimeBetweenRecTnx',\n",
       "       'avgTimeBetweenRecTnx', 'lifetime', 'sentTransactions',\n",
       "       'receivedTransactions', 'createdContracts', 'numUniqSentAddress',\n",
       "       'numUniqRecAddress', 'minValSent', 'maxValSent', 'avgValSent',\n",
       "       'minValReceived', 'maxValReceived', 'avgValReceived',\n",
       "       'totalTransactions', 'totalEtherSent', 'totalEtherReceived',\n",
       "       'totalEtherSentContracts', 'totalEtherBalance', 'activityDays',\n",
       "       'dailyMax', 'ratioRecSent', 'ratioSentTotal', 'ratioRecTotal',\n",
       "       'giniSent', 'giniRec', 'txFreq', 'stdBalanceEth'],\n",
       "      dtype='object')"
      ]
     },
     "execution_count": 62,
     "metadata": {},
     "output_type": "execute_result"
    }
   ],
   "source": [
    "df.columns"
   ]
  },
  {
   "cell_type": "code",
   "execution_count": 4,
   "metadata": {},
   "outputs": [
    {
     "data": {
      "text/plain": [
       "(12146, 34)"
      ]
     },
     "execution_count": 4,
     "metadata": {},
     "output_type": "execute_result"
    }
   ],
   "source": [
    "df.shape"
   ]
  },
  {
   "cell_type": "code",
   "execution_count": 64,
   "metadata": {},
   "outputs": [
    {
     "data": {
      "text/plain": [
       "address                     object\n",
       "flag                         int64\n",
       "minTimeBetweenSentTnx      float64\n",
       "maxTimeBetweenSentTnx      float64\n",
       "avgTimeBetweenSentTnx      float64\n",
       "minTimeBetweenRecTnx       float64\n",
       "maxTimeBetweenRecTnx       float64\n",
       "avgTimeBetweenRecTnx       float64\n",
       "lifetime                     int64\n",
       "sentTransactions             int64\n",
       "receivedTransactions         int64\n",
       "createdContracts             int64\n",
       "numUniqSentAddress           int64\n",
       "numUniqRecAddress            int64\n",
       "minValSent                 float64\n",
       "maxValSent                 float64\n",
       "avgValSent                 float64\n",
       "minValReceived             float64\n",
       "maxValReceived             float64\n",
       "avgValReceived             float64\n",
       "totalTransactions            int64\n",
       "totalEtherSent             float64\n",
       "totalEtherReceived         float64\n",
       "totalEtherSentContracts    float64\n",
       "totalEtherBalance          float64\n",
       "activityDays                 int64\n",
       "dailyMax                     int64\n",
       "ratioRecSent               float64\n",
       "ratioSentTotal             float64\n",
       "ratioRecTotal              float64\n",
       "giniSent                   float64\n",
       "giniRec                    float64\n",
       "txFreq                     float64\n",
       "stdBalanceEth              float64\n",
       "dtype: object"
      ]
     },
     "execution_count": 64,
     "metadata": {},
     "output_type": "execute_result"
    }
   ],
   "source": [
    "df.dtypes"
   ]
  },
  {
   "cell_type": "code",
   "execution_count": 13,
   "metadata": {},
   "outputs": [],
   "source": [
    "X = df.drop(['address', 'flag'], axis=1)\n",
    "y = df.loc[:, 'flag']"
   ]
  },
  {
   "cell_type": "code",
   "execution_count": 14,
   "metadata": {},
   "outputs": [],
   "source": [
    "rf = RandomForestClassifier()"
   ]
  },
  {
   "cell_type": "code",
   "execution_count": 15,
   "metadata": {},
   "outputs": [
    {
     "data": {
      "text/html": [
       "<style>#sk-container-id-1 {color: black;background-color: white;}#sk-container-id-1 pre{padding: 0;}#sk-container-id-1 div.sk-toggleable {background-color: white;}#sk-container-id-1 label.sk-toggleable__label {cursor: pointer;display: block;width: 100%;margin-bottom: 0;padding: 0.3em;box-sizing: border-box;text-align: center;}#sk-container-id-1 label.sk-toggleable__label-arrow:before {content: \"▸\";float: left;margin-right: 0.25em;color: #696969;}#sk-container-id-1 label.sk-toggleable__label-arrow:hover:before {color: black;}#sk-container-id-1 div.sk-estimator:hover label.sk-toggleable__label-arrow:before {color: black;}#sk-container-id-1 div.sk-toggleable__content {max-height: 0;max-width: 0;overflow: hidden;text-align: left;background-color: #f0f8ff;}#sk-container-id-1 div.sk-toggleable__content pre {margin: 0.2em;color: black;border-radius: 0.25em;background-color: #f0f8ff;}#sk-container-id-1 input.sk-toggleable__control:checked~div.sk-toggleable__content {max-height: 200px;max-width: 100%;overflow: auto;}#sk-container-id-1 input.sk-toggleable__control:checked~label.sk-toggleable__label-arrow:before {content: \"▾\";}#sk-container-id-1 div.sk-estimator input.sk-toggleable__control:checked~label.sk-toggleable__label {background-color: #d4ebff;}#sk-container-id-1 div.sk-label input.sk-toggleable__control:checked~label.sk-toggleable__label {background-color: #d4ebff;}#sk-container-id-1 input.sk-hidden--visually {border: 0;clip: rect(1px 1px 1px 1px);clip: rect(1px, 1px, 1px, 1px);height: 1px;margin: -1px;overflow: hidden;padding: 0;position: absolute;width: 1px;}#sk-container-id-1 div.sk-estimator {font-family: monospace;background-color: #f0f8ff;border: 1px dotted black;border-radius: 0.25em;box-sizing: border-box;margin-bottom: 0.5em;}#sk-container-id-1 div.sk-estimator:hover {background-color: #d4ebff;}#sk-container-id-1 div.sk-parallel-item::after {content: \"\";width: 100%;border-bottom: 1px solid gray;flex-grow: 1;}#sk-container-id-1 div.sk-label:hover label.sk-toggleable__label {background-color: #d4ebff;}#sk-container-id-1 div.sk-serial::before {content: \"\";position: absolute;border-left: 1px solid gray;box-sizing: border-box;top: 0;bottom: 0;left: 50%;z-index: 0;}#sk-container-id-1 div.sk-serial {display: flex;flex-direction: column;align-items: center;background-color: white;padding-right: 0.2em;padding-left: 0.2em;position: relative;}#sk-container-id-1 div.sk-item {position: relative;z-index: 1;}#sk-container-id-1 div.sk-parallel {display: flex;align-items: stretch;justify-content: center;background-color: white;position: relative;}#sk-container-id-1 div.sk-item::before, #sk-container-id-1 div.sk-parallel-item::before {content: \"\";position: absolute;border-left: 1px solid gray;box-sizing: border-box;top: 0;bottom: 0;left: 50%;z-index: -1;}#sk-container-id-1 div.sk-parallel-item {display: flex;flex-direction: column;z-index: 1;position: relative;background-color: white;}#sk-container-id-1 div.sk-parallel-item:first-child::after {align-self: flex-end;width: 50%;}#sk-container-id-1 div.sk-parallel-item:last-child::after {align-self: flex-start;width: 50%;}#sk-container-id-1 div.sk-parallel-item:only-child::after {width: 0;}#sk-container-id-1 div.sk-dashed-wrapped {border: 1px dashed gray;margin: 0 0.4em 0.5em 0.4em;box-sizing: border-box;padding-bottom: 0.4em;background-color: white;}#sk-container-id-1 div.sk-label label {font-family: monospace;font-weight: bold;display: inline-block;line-height: 1.2em;}#sk-container-id-1 div.sk-label-container {text-align: center;}#sk-container-id-1 div.sk-container {/* jupyter's `normalize.less` sets `[hidden] { display: none; }` but bootstrap.min.css set `[hidden] { display: none !important; }` so we also need the `!important` here to be able to override the default hidden behavior on the sphinx rendered scikit-learn.org. See: https://github.com/scikit-learn/scikit-learn/issues/21755 */display: inline-block !important;position: relative;}#sk-container-id-1 div.sk-text-repr-fallback {display: none;}</style><div id=\"sk-container-id-1\" class=\"sk-top-container\"><div class=\"sk-text-repr-fallback\"><pre>RandomForestClassifier()</pre><b>In a Jupyter environment, please rerun this cell to show the HTML representation or trust the notebook. <br />On GitHub, the HTML representation is unable to render, please try loading this page with nbviewer.org.</b></div><div class=\"sk-container\" hidden><div class=\"sk-item\"><div class=\"sk-estimator sk-toggleable\"><input class=\"sk-toggleable__control sk-hidden--visually\" id=\"sk-estimator-id-1\" type=\"checkbox\" checked><label for=\"sk-estimator-id-1\" class=\"sk-toggleable__label sk-toggleable__label-arrow\">RandomForestClassifier</label><div class=\"sk-toggleable__content\"><pre>RandomForestClassifier()</pre></div></div></div></div></div>"
      ],
      "text/plain": [
       "RandomForestClassifier()"
      ]
     },
     "execution_count": 15,
     "metadata": {},
     "output_type": "execute_result"
    }
   ],
   "source": [
    "rf.fit(X, y)"
   ]
  },
  {
   "cell_type": "code",
   "execution_count": 16,
   "metadata": {},
   "outputs": [],
   "source": [
    "pickle.dump(rf, open('rf.pkl', 'wb'))"
   ]
  },
  {
   "cell_type": "code",
   "execution_count": 31,
   "metadata": {},
   "outputs": [],
   "source": [
    "test = [ '36.000000', '1401564.000000', '201015.000000', '204.000000', '1679122655.000000', '280276311.833333', 58, 12, 6, 0, 10, 4, '0.000000', '0.010000', '0.002943', '0.001500', '0.024919', '0.010957', 18, 0.03532042383076424, 0.06574191673195265, 0, 0.03042149290118841, 16, 2, 0.46153846153846156, 0.631578947368421, 0.3157894736842105, 0.5704202750993683, 0.36542721759966706, 0.3103448275862069, 0.01211933742904103]"
   ]
  },
  {
   "cell_type": "code",
   "execution_count": 32,
   "metadata": {},
   "outputs": [],
   "source": [
    "test_data = np.array(test).astype('float64')"
   ]
  },
  {
   "cell_type": "code",
   "execution_count": 33,
   "metadata": {},
   "outputs": [
    {
     "data": {
      "text/plain": [
       "(32,)"
      ]
     },
     "execution_count": 33,
     "metadata": {},
     "output_type": "execute_result"
    }
   ],
   "source": [
    "test_data.shape"
   ]
  },
  {
   "cell_type": "code",
   "execution_count": 38,
   "metadata": {},
   "outputs": [
    {
     "data": {
      "text/plain": [
       "(1, 32)"
      ]
     },
     "execution_count": 38,
     "metadata": {},
     "output_type": "execute_result"
    }
   ],
   "source": [
    "test_data.reshape(1, 32).shape"
   ]
  },
  {
   "cell_type": "code",
   "execution_count": 39,
   "metadata": {},
   "outputs": [
    {
     "name": "stderr",
     "output_type": "stream",
     "text": [
      "/Users/hakymulla/opt/anaconda3/lib/python3.9/site-packages/sklearn/base.py:450: UserWarning: X does not have valid feature names, but RandomForestClassifier was fitted with feature names\n",
      "  warnings.warn(\n"
     ]
    },
    {
     "data": {
      "text/plain": [
       "array([0])"
      ]
     },
     "execution_count": 39,
     "metadata": {},
     "output_type": "execute_result"
    }
   ],
   "source": [
    "rf.predict(test_data.reshape(1,32))"
   ]
  },
  {
   "cell_type": "code",
   "execution_count": 40,
   "metadata": {},
   "outputs": [
    {
     "data": {
      "text/plain": [
       "Index(['address', 'flag', 'minTimeBetweenSentTnx', 'maxTimeBetweenSentTnx',\n",
       "       'avgTimeBetweenSentTnx', 'minTimeBetweenRecTnx', 'maxTimeBetweenRecTnx',\n",
       "       'avgTimeBetweenRecTnx', 'lifetime', 'sentTransactions',\n",
       "       'receivedTransactions', 'createdContracts', 'numUniqSentAddress',\n",
       "       'numUniqRecAddress', 'minValSent', 'maxValSent', 'avgValSent',\n",
       "       'minValReceived', 'maxValReceived', 'avgValReceived',\n",
       "       'totalTransactions', 'totalEtherSent', 'totalEtherReceived',\n",
       "       'totalEtherSentContracts', 'totalEtherBalance', 'activityDays',\n",
       "       'dailyMax', 'ratioRecSent', 'ratioSentTotal', 'ratioRecTotal',\n",
       "       'giniSent', 'giniRec', 'txFreq', 'stdBalanceEth'],\n",
       "      dtype='object')"
      ]
     },
     "execution_count": 40,
     "metadata": {},
     "output_type": "execute_result"
    }
   ],
   "source": [
    "df.columns"
   ]
  },
  {
   "cell_type": "code",
   "execution_count": 41,
   "metadata": {},
   "outputs": [],
   "source": [
    "cols = ['minTimeBetweenSentTnx', 'maxTimeBetweenSentTnx',\n",
    "       'avgTimeBetweenSentTnx', 'minTimeBetweenRecTnx', 'maxTimeBetweenRecTnx',\n",
    "       'avgTimeBetweenRecTnx', 'lifetime', 'sentTransactions',\n",
    "       'receivedTransactions', 'createdContracts', 'numUniqSentAddress',\n",
    "       'numUniqRecAddress', 'minValSent', 'maxValSent', 'avgValSent',\n",
    "       'minValReceived', 'maxValReceived', 'avgValReceived',\n",
    "       'totalTransactions', 'totalEtherSent', 'totalEtherReceived',\n",
    "       'totalEtherSentContracts', 'totalEtherBalance', 'activityDays',\n",
    "       'dailyMax', 'ratioRecSent', 'ratioSentTotal', 'ratioRecTotal',\n",
    "       'giniSent', 'giniRec', 'txFreq', 'stdBalanceEth']"
   ]
  },
  {
   "cell_type": "code",
   "execution_count": 42,
   "metadata": {},
   "outputs": [
    {
     "data": {
      "text/plain": [
       "32"
      ]
     },
     "execution_count": 42,
     "metadata": {},
     "output_type": "execute_result"
    }
   ],
   "source": [
    "len(cols)"
   ]
  },
  {
   "cell_type": "code",
   "execution_count": 44,
   "metadata": {},
   "outputs": [
    {
     "data": {
      "text/html": [
       "<div>\n",
       "<style scoped>\n",
       "    .dataframe tbody tr th:only-of-type {\n",
       "        vertical-align: middle;\n",
       "    }\n",
       "\n",
       "    .dataframe tbody tr th {\n",
       "        vertical-align: top;\n",
       "    }\n",
       "\n",
       "    .dataframe thead th {\n",
       "        text-align: right;\n",
       "    }\n",
       "</style>\n",
       "<table border=\"1\" class=\"dataframe\">\n",
       "  <thead>\n",
       "    <tr style=\"text-align: right;\">\n",
       "      <th></th>\n",
       "      <th>minTimeBetweenSentTnx</th>\n",
       "      <th>maxTimeBetweenSentTnx</th>\n",
       "      <th>avgTimeBetweenSentTnx</th>\n",
       "      <th>minTimeBetweenRecTnx</th>\n",
       "      <th>maxTimeBetweenRecTnx</th>\n",
       "      <th>avgTimeBetweenRecTnx</th>\n",
       "      <th>lifetime</th>\n",
       "      <th>sentTransactions</th>\n",
       "      <th>receivedTransactions</th>\n",
       "      <th>createdContracts</th>\n",
       "      <th>...</th>\n",
       "      <th>totalEtherBalance</th>\n",
       "      <th>activityDays</th>\n",
       "      <th>dailyMax</th>\n",
       "      <th>ratioRecSent</th>\n",
       "      <th>ratioSentTotal</th>\n",
       "      <th>ratioRecTotal</th>\n",
       "      <th>giniSent</th>\n",
       "      <th>giniRec</th>\n",
       "      <th>txFreq</th>\n",
       "      <th>stdBalanceEth</th>\n",
       "    </tr>\n",
       "  </thead>\n",
       "  <tbody>\n",
       "    <tr>\n",
       "      <th>0</th>\n",
       "      <td>36.0</td>\n",
       "      <td>1401564.0</td>\n",
       "      <td>201015.0</td>\n",
       "      <td>204.0</td>\n",
       "      <td>1.679123e+09</td>\n",
       "      <td>2.802763e+08</td>\n",
       "      <td>58.0</td>\n",
       "      <td>12.0</td>\n",
       "      <td>6.0</td>\n",
       "      <td>0.0</td>\n",
       "      <td>...</td>\n",
       "      <td>0.030421</td>\n",
       "      <td>16.0</td>\n",
       "      <td>2.0</td>\n",
       "      <td>0.461538</td>\n",
       "      <td>0.631579</td>\n",
       "      <td>0.315789</td>\n",
       "      <td>0.57042</td>\n",
       "      <td>0.365427</td>\n",
       "      <td>0.310345</td>\n",
       "      <td>0.012119</td>\n",
       "    </tr>\n",
       "  </tbody>\n",
       "</table>\n",
       "<p>1 rows × 32 columns</p>\n",
       "</div>"
      ],
      "text/plain": [
       "   minTimeBetweenSentTnx  maxTimeBetweenSentTnx  avgTimeBetweenSentTnx  \\\n",
       "0                   36.0              1401564.0               201015.0   \n",
       "\n",
       "   minTimeBetweenRecTnx  maxTimeBetweenRecTnx  avgTimeBetweenRecTnx  lifetime  \\\n",
       "0                 204.0          1.679123e+09          2.802763e+08      58.0   \n",
       "\n",
       "   sentTransactions  receivedTransactions  createdContracts  ...  \\\n",
       "0              12.0                   6.0               0.0  ...   \n",
       "\n",
       "   totalEtherBalance  activityDays  dailyMax  ratioRecSent  ratioSentTotal  \\\n",
       "0           0.030421          16.0       2.0      0.461538        0.631579   \n",
       "\n",
       "   ratioRecTotal  giniSent   giniRec    txFreq  stdBalanceEth  \n",
       "0       0.315789   0.57042  0.365427  0.310345       0.012119  \n",
       "\n",
       "[1 rows x 32 columns]"
      ]
     },
     "execution_count": 44,
     "metadata": {},
     "output_type": "execute_result"
    }
   ],
   "source": [
    "pd.DataFrame(test_data.reshape(1, 32), columns=cols)"
   ]
  },
  {
   "cell_type": "code",
   "execution_count": 45,
   "metadata": {},
   "outputs": [
    {
     "data": {
      "text/plain": [
       "array([0])"
      ]
     },
     "execution_count": 45,
     "metadata": {},
     "output_type": "execute_result"
    }
   ],
   "source": [
    "rf.predict(pd.DataFrame(test_data.reshape(1, 32), columns=cols))"
   ]
  },
  {
   "cell_type": "code",
   "execution_count": null,
   "metadata": {},
   "outputs": [],
   "source": []
  }
 ],
 "metadata": {
  "kernelspec": {
   "display_name": "base",
   "language": "python",
   "name": "python3"
  },
  "language_info": {
   "codemirror_mode": {
    "name": "ipython",
    "version": 3
   },
   "file_extension": ".py",
   "mimetype": "text/x-python",
   "name": "python",
   "nbconvert_exporter": "python",
   "pygments_lexer": "ipython3",
   "version": "3.9.12"
  },
  "orig_nbformat": 4
 },
 "nbformat": 4,
 "nbformat_minor": 2
}
